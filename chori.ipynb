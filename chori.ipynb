{
 "nbformat": 4,
 "nbformat_minor": 2,
 "metadata": {
  "language_info": {
   "name": "python",
   "codemirror_mode": {
    "name": "ipython",
    "version": 3
   }
  },
  "orig_nbformat": 2,
  "file_extension": ".py",
  "mimetype": "text/x-python",
  "name": "python",
  "npconvert_exporter": "python",
  "pygments_lexer": "ipython3",
  "version": 3,
  "kernelspec": {
   "name": "python37664bit1d7ef2e8cff042f78a509e385ee1219d",
   "display_name": "Python 3.7.6 64-bit"
  }
 },
 "cells": [
  {
   "cell_type": "code",
   "execution_count": 1,
   "metadata": {},
   "outputs": [],
   "source": [
    "import pandas as pd"
   ]
  },
  {
   "cell_type": "code",
   "execution_count": 2,
   "metadata": {},
   "outputs": [],
   "source": [
    "df = pd.read_json(\"./json/Architecture/batch_16_cgpi.json\")"
   ]
  },
  {
   "cell_type": "code",
   "execution_count": 3,
   "metadata": {},
   "outputs": [
    {
     "data": {
      "text/html": "<div>\n<style scoped>\n    .dataframe tbody tr th:only-of-type {\n        vertical-align: middle;\n    }\n\n    .dataframe tbody tr th {\n        vertical-align: top;\n    }\n\n    .dataframe thead th {\n        text-align: right;\n    }\n</style>\n<table border=\"1\" class=\"dataframe\">\n  <thead>\n    <tr style=\"text-align: right;\">\n      <th></th>\n      <th>Rank</th>\n      <th>G_rank</th>\n      <th>Name</th>\n      <th>Rollno</th>\n      <th>Gender</th>\n      <th>Year</th>\n      <th>Cgpa</th>\n      <th>Sgpa</th>\n      <th>Points</th>\n      <th>Branch</th>\n    </tr>\n  </thead>\n  <tbody>\n    <tr>\n      <th>0</th>\n      <td>1</td>\n      <td>0</td>\n      <td>DIVYA SINGH</td>\n      <td>16632</td>\n      <td></td>\n      <td>4</td>\n      <td>9.44</td>\n      <td>9.32</td>\n      <td>1623</td>\n      <td>Architecture</td>\n    </tr>\n    <tr>\n      <th>1</th>\n      <td>2</td>\n      <td>0</td>\n      <td>SHIVANI GULERIA</td>\n      <td>16610</td>\n      <td></td>\n      <td>4</td>\n      <td>8.51</td>\n      <td>8.84</td>\n      <td>1464</td>\n      <td>Architecture</td>\n    </tr>\n    <tr>\n      <th>2</th>\n      <td>3</td>\n      <td>0</td>\n      <td>MANISH AGRI</td>\n      <td>16609</td>\n      <td></td>\n      <td>4</td>\n      <td>8.48</td>\n      <td>8.28</td>\n      <td>1459</td>\n      <td>Architecture</td>\n    </tr>\n    <tr>\n      <th>3</th>\n      <td>4</td>\n      <td>0</td>\n      <td>UMESH THAKUR</td>\n      <td>16634</td>\n      <td></td>\n      <td>4</td>\n      <td>8.38</td>\n      <td>8.28</td>\n      <td>1442</td>\n      <td>Architecture</td>\n    </tr>\n    <tr>\n      <th>4</th>\n      <td>5</td>\n      <td>0</td>\n      <td>ANIKSHA SHARMA</td>\n      <td>16626</td>\n      <td></td>\n      <td>4</td>\n      <td>8.09</td>\n      <td>8.84</td>\n      <td>1391</td>\n      <td>Architecture</td>\n    </tr>\n    <tr>\n      <th>5</th>\n      <td>6</td>\n      <td>0</td>\n      <td>ANKIT KUMAR</td>\n      <td>16622</td>\n      <td></td>\n      <td>4</td>\n      <td>7.95</td>\n      <td>8.48</td>\n      <td>1368</td>\n      <td>Architecture</td>\n    </tr>\n    <tr>\n      <th>6</th>\n      <td>7</td>\n      <td>0</td>\n      <td>KRIT SHARMA</td>\n      <td>16614</td>\n      <td></td>\n      <td>4</td>\n      <td>7.68</td>\n      <td>8.32</td>\n      <td>1321</td>\n      <td>Architecture</td>\n    </tr>\n    <tr>\n      <th>7</th>\n      <td>8</td>\n      <td>0</td>\n      <td>MANISH THAKUR</td>\n      <td>16607</td>\n      <td></td>\n      <td>4</td>\n      <td>7.61</td>\n      <td>7.72</td>\n      <td>1309</td>\n      <td>Architecture</td>\n    </tr>\n    <tr>\n      <th>8</th>\n      <td>9</td>\n      <td>0</td>\n      <td>PRINCE MISHRA</td>\n      <td>16616</td>\n      <td></td>\n      <td>4</td>\n      <td>7.59</td>\n      <td>8.16</td>\n      <td>1306</td>\n      <td>Architecture</td>\n    </tr>\n    <tr>\n      <th>9</th>\n      <td>10</td>\n      <td>0</td>\n      <td>NIHARIKA BARWAL</td>\n      <td>16608</td>\n      <td></td>\n      <td>4</td>\n      <td>7.54</td>\n      <td>8.48</td>\n      <td>1297</td>\n      <td>Architecture</td>\n    </tr>\n    <tr>\n      <th>10</th>\n      <td>11</td>\n      <td>0</td>\n      <td>SHIVAM SHARMA</td>\n      <td>16621</td>\n      <td></td>\n      <td>4</td>\n      <td>7.54</td>\n      <td>8.08</td>\n      <td>1297</td>\n      <td>Architecture</td>\n    </tr>\n    <tr>\n      <th>11</th>\n      <td>12</td>\n      <td>0</td>\n      <td>SANJIB KUMAR SIKDER</td>\n      <td>16612</td>\n      <td></td>\n      <td>4</td>\n      <td>7.53</td>\n      <td>8.32</td>\n      <td>1295</td>\n      <td>Architecture</td>\n    </tr>\n    <tr>\n      <th>12</th>\n      <td>13</td>\n      <td>0</td>\n      <td>RIYA SINGH</td>\n      <td>16602</td>\n      <td></td>\n      <td>4</td>\n      <td>7.40</td>\n      <td>8.28</td>\n      <td>1272</td>\n      <td>Architecture</td>\n    </tr>\n    <tr>\n      <th>13</th>\n      <td>14</td>\n      <td>0</td>\n      <td>ADARSH TANWAR</td>\n      <td>16625</td>\n      <td></td>\n      <td>4</td>\n      <td>7.35</td>\n      <td>7.48</td>\n      <td>1265</td>\n      <td>Architecture</td>\n    </tr>\n    <tr>\n      <th>14</th>\n      <td>15</td>\n      <td>0</td>\n      <td>TABA TAPU</td>\n      <td>16631</td>\n      <td></td>\n      <td>4</td>\n      <td>7.35</td>\n      <td>7.36</td>\n      <td>1264</td>\n      <td>Architecture</td>\n    </tr>\n    <tr>\n      <th>15</th>\n      <td>16</td>\n      <td>0</td>\n      <td>ARUN SANKHYAN</td>\n      <td>16603</td>\n      <td></td>\n      <td>4</td>\n      <td>7.19</td>\n      <td>7.16</td>\n      <td>1237</td>\n      <td>Architecture</td>\n    </tr>\n    <tr>\n      <th>16</th>\n      <td>17</td>\n      <td>0</td>\n      <td>TARUN KUMAR</td>\n      <td>16630</td>\n      <td></td>\n      <td>4</td>\n      <td>6.97</td>\n      <td>8.00</td>\n      <td>1198</td>\n      <td>Architecture</td>\n    </tr>\n    <tr>\n      <th>17</th>\n      <td>18</td>\n      <td>0</td>\n      <td>ANKIT BHARDWAJ</td>\n      <td>16619</td>\n      <td></td>\n      <td>4</td>\n      <td>6.97</td>\n      <td>7.72</td>\n      <td>1199</td>\n      <td>Architecture</td>\n    </tr>\n    <tr>\n      <th>18</th>\n      <td>19</td>\n      <td>0</td>\n      <td>TANSHUL SAINI</td>\n      <td>16613</td>\n      <td></td>\n      <td>4</td>\n      <td>6.94</td>\n      <td>7.72</td>\n      <td>1194</td>\n      <td>Architecture</td>\n    </tr>\n    <tr>\n      <th>19</th>\n      <td>20</td>\n      <td>0</td>\n      <td>ABHISHEK SHARMA</td>\n      <td>16624</td>\n      <td></td>\n      <td>4</td>\n      <td>6.73</td>\n      <td>6.80</td>\n      <td>1158</td>\n      <td>Architecture</td>\n    </tr>\n    <tr>\n      <th>20</th>\n      <td>21</td>\n      <td>0</td>\n      <td>ANANYA SHARMA</td>\n      <td>16606</td>\n      <td></td>\n      <td>4</td>\n      <td>6.70</td>\n      <td>6.96</td>\n      <td>1153</td>\n      <td>Architecture</td>\n    </tr>\n    <tr>\n      <th>21</th>\n      <td>22</td>\n      <td>0</td>\n      <td>SIMRAN MATTU</td>\n      <td>16629</td>\n      <td></td>\n      <td>4</td>\n      <td>6.65</td>\n      <td>7.88</td>\n      <td>1144</td>\n      <td>Architecture</td>\n    </tr>\n    <tr>\n      <th>22</th>\n      <td>23</td>\n      <td>0</td>\n      <td>KRITI CHAUHAN</td>\n      <td>16620</td>\n      <td></td>\n      <td>4</td>\n      <td>6.61</td>\n      <td>7.32</td>\n      <td>1137</td>\n      <td>Architecture</td>\n    </tr>\n    <tr>\n      <th>23</th>\n      <td>24</td>\n      <td>0</td>\n      <td>AMAN HEER</td>\n      <td>16623</td>\n      <td></td>\n      <td>4</td>\n      <td>6.37</td>\n      <td>5.60</td>\n      <td>1096</td>\n      <td>Architecture</td>\n    </tr>\n    <tr>\n      <th>24</th>\n      <td>25</td>\n      <td>0</td>\n      <td>ANISH DHIMAN</td>\n      <td>16615</td>\n      <td></td>\n      <td>4</td>\n      <td>6.34</td>\n      <td>5.44</td>\n      <td>1090</td>\n      <td>Architecture</td>\n    </tr>\n    <tr>\n      <th>25</th>\n      <td>26</td>\n      <td>0</td>\n      <td>DEVASHISH SHARMA</td>\n      <td>16601</td>\n      <td></td>\n      <td>4</td>\n      <td>6.30</td>\n      <td>6.24</td>\n      <td>1084</td>\n      <td>Architecture</td>\n    </tr>\n    <tr>\n      <th>26</th>\n      <td>27</td>\n      <td>0</td>\n      <td>SHREY ASATI</td>\n      <td>16628</td>\n      <td></td>\n      <td>4</td>\n      <td>6.09</td>\n      <td>7.40</td>\n      <td>1047</td>\n      <td>Architecture</td>\n    </tr>\n    <tr>\n      <th>27</th>\n      <td>28</td>\n      <td>0</td>\n      <td>PARAS DHILLON</td>\n      <td>16611</td>\n      <td></td>\n      <td>4</td>\n      <td>5.21</td>\n      <td>6.04</td>\n      <td>896</td>\n      <td>Architecture</td>\n    </tr>\n    <tr>\n      <th>28</th>\n      <td>29</td>\n      <td>0</td>\n      <td>AKSHAY KUMAR</td>\n      <td>16633</td>\n      <td></td>\n      <td>4</td>\n      <td>4.88</td>\n      <td>3.64</td>\n      <td>840</td>\n      <td>Architecture</td>\n    </tr>\n    <tr>\n      <th>29</th>\n      <td>30</td>\n      <td>0</td>\n      <td>VIKAS KUSHWAHA</td>\n      <td>16627</td>\n      <td></td>\n      <td>4</td>\n      <td>4.49</td>\n      <td>6.04</td>\n      <td>772</td>\n      <td>Architecture</td>\n    </tr>\n    <tr>\n      <th>30</th>\n      <td>31</td>\n      <td>0</td>\n      <td>TSEWANG MUTUP</td>\n      <td>16617</td>\n      <td></td>\n      <td>4</td>\n      <td>4.44</td>\n      <td>1.36</td>\n      <td>763</td>\n      <td>Architecture</td>\n    </tr>\n    <tr>\n      <th>31</th>\n      <td>32</td>\n      <td>0</td>\n      <td>JAYDEEP AMETA</td>\n      <td>16618</td>\n      <td></td>\n      <td>4</td>\n      <td>4.41</td>\n      <td>4.56</td>\n      <td>758</td>\n      <td>Architecture</td>\n    </tr>\n    <tr>\n      <th>32</th>\n      <td>33</td>\n      <td>0</td>\n      <td>ISHANT</td>\n      <td>16604</td>\n      <td></td>\n      <td>4</td>\n      <td>3.06</td>\n      <td>0.00</td>\n      <td>330</td>\n      <td>Architecture</td>\n    </tr>\n    <tr>\n      <th>33</th>\n      <td>34</td>\n      <td>0</td>\n      <td>SHREYA ANEJA</td>\n      <td>16605</td>\n      <td></td>\n      <td>4</td>\n      <td>0.00</td>\n      <td>0.00</td>\n      <td>0</td>\n      <td>Architecture</td>\n    </tr>\n  </tbody>\n</table>\n</div>",
      "text/plain": "    Rank  G_rank                 Name  Rollno Gender  Year  Cgpa  Sgpa  \\\n0      1       0          DIVYA SINGH   16632            4  9.44  9.32   \n1      2       0      SHIVANI GULERIA   16610            4  8.51  8.84   \n2      3       0          MANISH AGRI   16609            4  8.48  8.28   \n3      4       0         UMESH THAKUR   16634            4  8.38  8.28   \n4      5       0       ANIKSHA SHARMA   16626            4  8.09  8.84   \n5      6       0          ANKIT KUMAR   16622            4  7.95  8.48   \n6      7       0          KRIT SHARMA   16614            4  7.68  8.32   \n7      8       0        MANISH THAKUR   16607            4  7.61  7.72   \n8      9       0        PRINCE MISHRA   16616            4  7.59  8.16   \n9     10       0      NIHARIKA BARWAL   16608            4  7.54  8.48   \n10    11       0        SHIVAM SHARMA   16621            4  7.54  8.08   \n11    12       0  SANJIB KUMAR SIKDER   16612            4  7.53  8.32   \n12    13       0           RIYA SINGH   16602            4  7.40  8.28   \n13    14       0        ADARSH TANWAR   16625            4  7.35  7.48   \n14    15       0            TABA TAPU   16631            4  7.35  7.36   \n15    16       0        ARUN SANKHYAN   16603            4  7.19  7.16   \n16    17       0          TARUN KUMAR   16630            4  6.97  8.00   \n17    18       0       ANKIT BHARDWAJ   16619            4  6.97  7.72   \n18    19       0        TANSHUL SAINI   16613            4  6.94  7.72   \n19    20       0      ABHISHEK SHARMA   16624            4  6.73  6.80   \n20    21       0        ANANYA SHARMA   16606            4  6.70  6.96   \n21    22       0         SIMRAN MATTU   16629            4  6.65  7.88   \n22    23       0        KRITI CHAUHAN   16620            4  6.61  7.32   \n23    24       0            AMAN HEER   16623            4  6.37  5.60   \n24    25       0         ANISH DHIMAN   16615            4  6.34  5.44   \n25    26       0     DEVASHISH SHARMA   16601            4  6.30  6.24   \n26    27       0          SHREY ASATI   16628            4  6.09  7.40   \n27    28       0        PARAS DHILLON   16611            4  5.21  6.04   \n28    29       0         AKSHAY KUMAR   16633            4  4.88  3.64   \n29    30       0       VIKAS KUSHWAHA   16627            4  4.49  6.04   \n30    31       0        TSEWANG MUTUP   16617            4  4.44  1.36   \n31    32       0        JAYDEEP AMETA   16618            4  4.41  4.56   \n32    33       0               ISHANT   16604            4  3.06  0.00   \n33    34       0         SHREYA ANEJA   16605            4  0.00  0.00   \n\n    Points        Branch  \n0     1623  Architecture  \n1     1464  Architecture  \n2     1459  Architecture  \n3     1442  Architecture  \n4     1391  Architecture  \n5     1368  Architecture  \n6     1321  Architecture  \n7     1309  Architecture  \n8     1306  Architecture  \n9     1297  Architecture  \n10    1297  Architecture  \n11    1295  Architecture  \n12    1272  Architecture  \n13    1265  Architecture  \n14    1264  Architecture  \n15    1237  Architecture  \n16    1198  Architecture  \n17    1199  Architecture  \n18    1194  Architecture  \n19    1158  Architecture  \n20    1153  Architecture  \n21    1144  Architecture  \n22    1137  Architecture  \n23    1096  Architecture  \n24    1090  Architecture  \n25    1084  Architecture  \n26    1047  Architecture  \n27     896  Architecture  \n28     840  Architecture  \n29     772  Architecture  \n30     763  Architecture  \n31     758  Architecture  \n32     330  Architecture  \n33       0  Architecture  "
     },
     "execution_count": 3,
     "metadata": {},
     "output_type": "execute_result"
    }
   ],
   "source": [
    "df"
   ]
  },
  {
   "cell_type": "code",
   "execution_count": 16,
   "metadata": {},
   "outputs": [],
   "source": [
    "pf=pd.read_json(\"./json/Electrical/batch_18_cgpi.json\")"
   ]
  },
  {
   "cell_type": "code",
   "execution_count": 17,
   "metadata": {},
   "outputs": [
    {
     "data": {
      "text/html": "<div>\n<style scoped>\n    .dataframe tbody tr th:only-of-type {\n        vertical-align: middle;\n    }\n\n    .dataframe tbody tr th {\n        vertical-align: top;\n    }\n\n    .dataframe thead th {\n        text-align: right;\n    }\n</style>\n<table border=\"1\" class=\"dataframe\">\n  <thead>\n    <tr style=\"text-align: right;\">\n      <th></th>\n      <th>Rank</th>\n      <th>G_rank</th>\n      <th>Name</th>\n      <th>Rollno</th>\n      <th>Gender</th>\n      <th>Year</th>\n      <th>Cgpa</th>\n      <th>Sgpa</th>\n      <th>Points</th>\n      <th>Branch</th>\n    </tr>\n  </thead>\n  <tbody>\n    <tr>\n      <th>0</th>\n      <td>1</td>\n      <td>0</td>\n      <td>MUSKAN GAUTAM</td>\n      <td>182041</td>\n      <td></td>\n      <td>2</td>\n      <td>9.47</td>\n      <td>9.73</td>\n      <td>559</td>\n      <td>Electrical</td>\n    </tr>\n    <tr>\n      <th>1</th>\n      <td>2</td>\n      <td>0</td>\n      <td>ABHA GUPTA</td>\n      <td>182072</td>\n      <td></td>\n      <td>2</td>\n      <td>9.37</td>\n      <td>9.64</td>\n      <td>553</td>\n      <td>Electrical</td>\n    </tr>\n    <tr>\n      <th>2</th>\n      <td>3</td>\n      <td>0</td>\n      <td>SUKRITI MOHAN</td>\n      <td>182055</td>\n      <td></td>\n      <td>2</td>\n      <td>9.36</td>\n      <td>9.64</td>\n      <td>552</td>\n      <td>Electrical</td>\n    </tr>\n    <tr>\n      <th>3</th>\n      <td>4</td>\n      <td>0</td>\n      <td>ABHISHEK</td>\n      <td>182002</td>\n      <td></td>\n      <td>2</td>\n      <td>9.07</td>\n      <td>9.45</td>\n      <td>535</td>\n      <td>Electrical</td>\n    </tr>\n    <tr>\n      <th>4</th>\n      <td>5</td>\n      <td>0</td>\n      <td>KRITIKA SRIVASTAVA</td>\n      <td>182042</td>\n      <td></td>\n      <td>2</td>\n      <td>9.07</td>\n      <td>9.32</td>\n      <td>535</td>\n      <td>Electrical</td>\n    </tr>\n  </tbody>\n</table>\n</div>",
      "text/plain": "   Rank  G_rank                Name  Rollno Gender  Year  Cgpa  Sgpa  Points  \\\n0     1       0       MUSKAN GAUTAM  182041            2  9.47  9.73     559   \n1     2       0          ABHA GUPTA  182072            2  9.37  9.64     553   \n2     3       0       SUKRITI MOHAN  182055            2  9.36  9.64     552   \n3     4       0            ABHISHEK  182002            2  9.07  9.45     535   \n4     5       0  KRITIKA SRIVASTAVA  182042            2  9.07  9.32     535   \n\n       Branch  \n0  Electrical  \n1  Electrical  \n2  Electrical  \n3  Electrical  \n4  Electrical  "
     },
     "execution_count": 17,
     "metadata": {},
     "output_type": "execute_result"
    }
   ],
   "source": [
    "pf.head()"
   ]
  },
  {
   "cell_type": "code",
   "execution_count": 18,
   "metadata": {},
   "outputs": [
    {
     "data": {
      "text/html": "<div>\n<style scoped>\n    .dataframe tbody tr th:only-of-type {\n        vertical-align: middle;\n    }\n\n    .dataframe tbody tr th {\n        vertical-align: top;\n    }\n\n    .dataframe thead th {\n        text-align: right;\n    }\n</style>\n<table border=\"1\" class=\"dataframe\">\n  <thead>\n    <tr style=\"text-align: right;\">\n      <th></th>\n      <th>Rank</th>\n      <th>G_rank</th>\n      <th>Name</th>\n      <th>Rollno</th>\n      <th>Gender</th>\n      <th>Year</th>\n      <th>Cgpa</th>\n      <th>Sgpa</th>\n      <th>Points</th>\n      <th>Branch</th>\n    </tr>\n  </thead>\n  <tbody>\n    <tr>\n      <th>20</th>\n      <td>21</td>\n      <td>0</td>\n      <td>KAUSTUBH BHATT</td>\n      <td>182012</td>\n      <td></td>\n      <td>2</td>\n      <td>8.19</td>\n      <td>8.68</td>\n      <td>483</td>\n      <td>Electrical</td>\n    </tr>\n  </tbody>\n</table>\n</div>",
      "text/plain": "    Rank  G_rank            Name  Rollno Gender  Year  Cgpa  Sgpa  Points  \\\n20    21       0  KAUSTUBH BHATT  182012            2  8.19  8.68     483   \n\n        Branch  \n20  Electrical  "
     },
     "execution_count": 18,
     "metadata": {},
     "output_type": "execute_result"
    }
   ],
   "source": [
    "pf[pf['Rank']==21]"
   ]
  },
  {
   "cell_type": "code",
   "execution_count": null,
   "metadata": {},
   "outputs": [],
   "source": []
  }
 ]
}